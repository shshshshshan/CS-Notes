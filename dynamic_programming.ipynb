{
 "cells": [
  {
   "cell_type": "markdown",
   "metadata": {
    "tags": []
   },
   "source": [
    "# Dynamic Programming\n",
    "\n",
    "Example of Dynamic Programming in Python\n",
    "\n",
    "## Sample Problem\n",
    "\n",
    "Suppose you are given two string, $s$ and $t$. Calculate the number of edits need to match these two strings.\n",
    "\n",
    "\n",
    "### *Example*\n",
    "\n",
    "|String $s$|String $t$|Edits|\n",
    "|---|---|---|\n",
    "|`'a cat!'`|`'the cats!'`|4|\n",
    "|`'cat'`|`'dog'`|3|\n",
    "|`'cat'`|`'at'`|1|\n",
    "|`'cat'`|`'cats'`|1|\n",
    "|`'cat'`|`'cat`|0|\n",
    "\n",
    "## What You Can Do\n",
    "\n",
    "You can do three things for each case:\n",
    "  1. **Insert** - You can insert a letter into $s$ in the hopes of matching the two strings. \n",
    "\n",
    "  > **Important**: This move is equivalent to deleting a letter in $t$.\n",
    "    \n",
    "  2. **Substitute** - You can change a letter of $s$ to match it with $t$.\n",
    "  \n",
    "  3. **Delete** - You can delete a letter from $t$.\n",
    "\n",
    "  > **Important**: This move deletes a letter from $s$.\n",
    "\n",
    "### *Example*\n",
    "\n",
    "Given string $s$ `'a cat!'` and string $t$ `'the cats!'`. Suppose we start at the end of the two strings when comparing, the following are the principles for the actions:\n",
    "\n",
    "#### Insert\n",
    "At the $i$-th iteration where the two strings mismatch, the strings would be `'a cat'` and `'the cats'`. <br>\n",
    "Inserting at this point will yield the strings `'a cats'` and `'the cats'`, which is essentially equal to `'a cat'` and `'the cat'`.\n",
    "\n",
    "> **Why?** Why deleting from $t$ instead of keeping the inserted letter? The reason is that it can be ambiguous where to insert in $s$. If the letter should be inserted **before** the $i$-th letter or **after**.\n",
    "\n",
    "#### Substitute\n",
    "At the $i$-th iteration where the two strings mismatch, the strings would be `'a cat'` and `'the cats'`. <br>\n",
    "Substituting at this point will yield the strings `'a cas'` and `'the cats'`, in hopes of matching the two $i$-th letters.\n",
    "\n",
    "#### Delete\n",
    "At the $i$-th iteration where the two strings mismatch, the strings would be `'a cat'` and `'the cats'`. <br>\n",
    "Deleting at this point will yield the strings `'a ca'` and `'the cats'`. \n",
    "\n",
    "## Key Notes\n",
    "It is important to take note that, though, you, as a person, can easily determine which action or operation to do, the computer is not knowledgable of this. In fact, it does not know which of the two strings are lengthier.\n",
    "\n",
    "It is also important that the strings can get so complex.\n",
    "\n",
    "## The Algorithm\n",
    "The algorithm is based off of a paradigm called **Dynamic Programming**, shortened to **DP**. DP essentially optimizes a slow algorithm into a better one. It also tries to find the minimal effort - or a more formal term, **cost** - of a certain algorithm. DP can also be called **Discrete Optimization**."
   ]
  },
  {
   "cell_type": "code",
   "execution_count": 30,
   "metadata": {},
   "outputs": [],
   "source": [
    "def countEditDistance(s, t):\n",
    "  \n",
    "  def recurse(m, n):\n",
    "    \"\"\"\n",
    "    Return the minimum edit distance between:\n",
    "      - the first m letters of s\n",
    "      - the first n letters of t\n",
    "    \"\"\"\n",
    "\n",
    "    if m == 0: # Comparing t to empty s-string\n",
    "      result = n\n",
    "    \n",
    "    elif n == 0: # Comparing s to empty t-string\n",
    "      result = m\n",
    "    \n",
    "    elif s[m - 1] == t[n - 1]: # Both lasts letters are the same\n",
    "      result = recurse(m - 1, n - 1)\n",
    "    \n",
    "    else: # Both strings are mismatch\n",
    "      insCost = 1 + recurse(m, n - 1)\n",
    "      subCost = 1 + recurse(m - 1, n - 1)\n",
    "      delCost = 1 + recurse(m - 1, n)\n",
    "\n",
    "      result = min(insCost, subCost, delCost)\n",
    "\n",
    "    return result\n",
    "\n",
    "  return recurse(len(s), len(t))"
   ]
  },
  {
   "cell_type": "markdown",
   "metadata": {},
   "source": [
    "> **Note**: Let `m` be the variable to hold the length of $s$ at a certain iteration. We denote the length of $s$ at the $i$-th iteration as $\\text{len}({s_i})$. Similarly, we let `n` to hold the length of $t$ at a certain iteration and denote the length of $t$ at the $i$-th iteration as $\\text{len}({t_i})$."
   ]
  },
  {
   "cell_type": "markdown",
   "metadata": {},
   "source": [
    "## Verifying The Code\n",
    "\n",
    "Let's now check if the code does truly work. "
   ]
  },
  {
   "cell_type": "code",
   "execution_count": 31,
   "metadata": {},
   "outputs": [
    {
     "name": "stdout",
     "output_type": "stream",
     "text": [
      "4\n"
     ]
    }
   ],
   "source": [
    "s = 'a cat!'\n",
    "t = 'the cats!'\n",
    "\n",
    "print(countEditDistance(s, t))"
   ]
  },
  {
   "cell_type": "markdown",
   "metadata": {},
   "source": [
    "Yehey! So the code works perfectly. But, what if the length of the string is a bit longer? ...\n",
    "\n",
    "Try to run the code below and see if it is as fast as the previous strings $s$ and $t$."
   ]
  },
  {
   "cell_type": "code",
   "execution_count": 18,
   "metadata": {},
   "outputs": [
    {
     "name": "stdout",
     "output_type": "stream",
     "text": [
      "Count distance:  8\n",
      "Elapsed time:  13.710598230361938\n"
     ]
    }
   ],
   "source": [
    "import time\n",
    "\n",
    "s = 'a cat!' * 2 # This will become 'a cat!a cat!a cat!...' 2 times of the string 'a cat!'\n",
    "t = 'the cats!' * 2\n",
    "\n",
    "start = time.time()\n",
    "print('Count distance: ', countEditDistance(s, t))\n",
    "end = time.time()\n",
    "\n",
    "print('Elapsed time: ', end - start) # Printing the elapsed time "
   ]
  },
  {
   "cell_type": "markdown",
   "metadata": {},
   "source": [
    "> Even with just double the length of the samples, the runtime of the algorithm drastically increased."
   ]
  },
  {
   "cell_type": "markdown",
   "metadata": {},
   "source": [
    "To analyze the time complexity of the `countEditDistance` function, we need to carefully examine the recursive `recurse` function it contains. Here’s a step-by-step analysis of the time complexity:\n",
    "\n",
    "### Step-by-Step Analysis\n",
    "1. **Recursive Calls**\n",
    "  - Each `recurse(m, n)` call generates three (3) recursive calls in the worst case. (One for each edit operation).\n",
    "\n",
    "2. **Exponential Number of Calls**\n",
    "  - The total number of calls given by $T(m, n)$:\n",
    "  $$\n",
    "  T(m, n) = 3 \\cdot T(m - 1, n) + 3 \\cdot T(m, n - 1) + 3 \\cdot T(m - 1, n - 1)\n",
    "  $$\n",
    "\n",
    "  - This is an upper bound approximation because the actual recursion tree may have fewer branches due to the base cases and character matches.\n",
    "\n",
    "3. **Approximate Complexity**\n",
    "  - The recurrence relation resembles that of an exponential function. The number of calls grows exponentially with respect to $m$ and $n$.\n",
    "  - The overall time complexity can be approximated as:\n",
    "  $$\n",
    "  T(m, n) = O(3^{\\max{(m, n)}})\n",
    "  $$\n",
    "\n",
    "  - Since each subproblem can lead to three further subproblems and each level of the tree has a branching factor of approximately three (3)."
   ]
  },
  {
   "cell_type": "markdown",
   "metadata": {},
   "source": [
    "## Optimizing the Algorithm\n",
    "\n",
    "How do we optimize this? \n",
    "\n",
    "In dynamic programming, algorithms are usually optimized by storing or remembering the results that could have been evaluated midway during solving. The formal term used by computer scientists for this optimization is called **memoization**.\n",
    "\n",
    "### Theory of How It Works\n",
    "\n",
    "At some point, during the execution of the algorithm, the branches could have - at some point - reached a phenomenon where the nodes are identical or have already been evaluated. \n",
    "\n",
    "Consider this part of the algorithm:\n",
    "\n",
    "```python\n",
    "  insCost = 1 + recurse(m, n - 1)\n",
    "  subCost = 1 + recurse(m - 1, n - 1)\n",
    "  delCost = 1 + recurse(m - 1, n)\n",
    "```\n",
    "\n",
    "In each of the recursive branch of these cases, there could be a case where a similar string length that has already been evaluated before. Let's dive into coding the memoization function.\n",
    "\n",
    "> *Note*: It is said that it is better to come up with a *slow* algorithm first before improving it to make it fast and not being slick with it immediately."
   ]
  },
  {
   "cell_type": "code",
   "execution_count": 23,
   "metadata": {},
   "outputs": [],
   "source": [
    "def countEditDistanceMemoize(s, t):\n",
    "  cache: dict = {} # This is the storage for the already-evaluated cases, our memoization container\n",
    "\n",
    "  # Same code with 3-4 lines of changes in the code\n",
    "  def recurse(m, n):\n",
    "    \"\"\"\n",
    "    Return the minimum edit distance between:\n",
    "      - the first m letters of s\n",
    "      - the first n letters of t\n",
    "    \"\"\"\n",
    "\n",
    "    if (m, n) in cache:\n",
    "       return cache[(m, n)]\n",
    "\n",
    "    if m == 0: # Comparing t to empty s-string\n",
    "      result = n\n",
    "    \n",
    "    elif n == 0: # Comparing s to empty t-string\n",
    "      result = m\n",
    "    \n",
    "    elif s[m - 1] == t[n - 1]: # Both lasts letters are the same\n",
    "      result = recurse(m - 1, n - 1)\n",
    "    \n",
    "    else: # Both strings are mismatch\n",
    "      insCost = 1 + recurse(m, n - 1)\n",
    "      subCost = 1 + recurse(m - 1, n - 1)\n",
    "      delCost = 1 + recurse(m - 1, n)\n",
    "\n",
    "      result = min(insCost, subCost, delCost)\n",
    "\n",
    "    cache[(m, n)] = result\n",
    "    return result\n",
    "\n",
    "  return recurse(len(s), len(t))"
   ]
  },
  {
   "cell_type": "markdown",
   "metadata": {},
   "source": [
    "> After the changes in the code at lines 2, 12, 13, and 31, our algorithm will now work tremendously faster than the previous algorithm. Let's try it."
   ]
  },
  {
   "cell_type": "code",
   "execution_count": 27,
   "metadata": {},
   "outputs": [
    {
     "name": "stdout",
     "output_type": "stream",
     "text": [
      "Count distance:  8\n",
      "Elapsed time:  0.0009996891021728516\n",
      "---\n",
      "Count distance:  40\n",
      "Elapsed time:  0.01061391830444336\n"
     ]
    }
   ],
   "source": [
    "s = 'a cat!' * 2 # This will become 'a cat!a cat!a cat!...' 2 times of the string 'a cat!'\n",
    "t = 'the cats!' * 2\n",
    "\n",
    "start = time.time()\n",
    "print('Count distance: ', countEditDistanceMemoize(s, t))\n",
    "end = time.time()\n",
    "\n",
    "print('Elapsed time: ', end - start) # Printing the elapsed time \n",
    "\n",
    "print('---')\n",
    "\n",
    "s = 'a cat!' * 10 # This will become 'a cat!a cat!a cat!...' 10 times of the string 'a cat!'\n",
    "t = 'the cats!' * 10\n",
    "\n",
    "start = time.time()\n",
    "print('Count distance: ', countEditDistanceMemoize(s, t))\n",
    "end = time.time()\n",
    "\n",
    "print('Elapsed time: ', end - start) # Printing the elapsed time "
   ]
  },
  {
   "cell_type": "markdown",
   "metadata": {},
   "source": [
    "> Wow, even at a string length of 60, the algorithm performs faster than the previous one of just double the length!"
   ]
  },
  {
   "cell_type": "markdown",
   "metadata": {},
   "source": [
    "## Analysis\n",
    "\n",
    "**What happened?**\n",
    "\n",
    "The `cache` held the values of the existent $m$ and $n$ lengths since there is no need to re-evaluate this length. <br>\n",
    "Note that we do not need to care if at $\\text{len}(s_i)$ and $\\text{len}(t_i)$ , the letters are different from $\\text{len}(s_j)$  and $\\text{len}(t_j)$ . This is because we will just either way recurse it to the three edit operations.<br>\n",
    "Also note that, we primarily check for the cache for existing `m` and `n` and immediately return out of the function. If there is no existing `m` and `n` in the cache, it will be appended at the end before returning the result.\n",
    "\n",
    "## Conclusion\n",
    "\n",
    "The time complexity of the `countEditDistance` function is exponential, specifically $O(3^{\\max{(m, n)}})$. This is due to the recursive nature of the function where each subproblem generates up to three more subproblems without memoization to avoid redundant calculations. In practical applications, this approach is inefficient for large strings and would benefit greatly from dynamic programming with memoization to reduce the time complexity to polynomial time $O(m \\times n)$."
   ]
  }
 ],
 "metadata": {
  "kernelspec": {
   "display_name": "Python 3",
   "language": "python",
   "name": "python3"
  },
  "language_info": {
   "codemirror_mode": {
    "name": "ipython",
    "version": 3
   },
   "file_extension": ".py",
   "mimetype": "text/x-python",
   "name": "python",
   "nbconvert_exporter": "python",
   "pygments_lexer": "ipython3",
   "version": "3.12.2"
  }
 },
 "nbformat": 4,
 "nbformat_minor": 2
}
